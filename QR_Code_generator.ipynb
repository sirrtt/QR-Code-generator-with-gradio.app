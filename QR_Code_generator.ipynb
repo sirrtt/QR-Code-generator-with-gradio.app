{
 "cells": [
  {
   "cell_type": "code",
   "execution_count": null,
   "metadata": {},
   "outputs": [],
   "source": [
    "import gradio as gr\n",
    "import png\n",
    "import pyqrcode as qr\n",
    "import cv2 as cv"
   ]
  },
  {
   "cell_type": "code",
   "execution_count": null,
   "metadata": {},
   "outputs": [],
   "source": [
    "def qr_Genaration(name):\n",
    "    # Generate QR code\n",
    "    getqrcode = pyqrcode.create(name)\n",
    "\n",
    "    # save in svg file format\n",
    "    getqrcode.svg(\"qrcode.svg\", scale = 8)\n",
    "\n",
    "    # save in the png file\n",
    "    getqrcode.png(\"qrcode.png\", scale = 6)\n",
    "    img = cv.imread(\"qrcode.png\")\n",
    "    return img"
   ]
  },
  {
   "cell_type": "code",
   "execution_count": null,
   "metadata": {},
   "outputs": [],
   "source": [
    "gr.Interface(fn=qr_Genaration, inputs=\"text\", outputs = \"image\").launch()"
   ]
  }
 ],
 "metadata": {
  "language_info": {
   "name": "python"
  },
  "orig_nbformat": 4
 },
 "nbformat": 4,
 "nbformat_minor": 2
}
